{
 "cells": [
  {
   "cell_type": "code",
   "execution_count": 1,
   "metadata": {},
   "outputs": [
    {
     "name": "stdout",
     "output_type": "stream",
     "text": [
      "['apple', 'cherry', 'grapes']\n"
     ]
    }
   ],
   "source": [
    "fruits = ['apple', 'cherry', 'grapes']\n",
    "print(fruits)"
   ]
  },
  {
   "cell_type": "code",
   "execution_count": 2,
   "metadata": {},
   "outputs": [
    {
     "name": "stdout",
     "output_type": "stream",
     "text": [
      "apple\n",
      "cherry\n",
      "grapes\n"
     ]
    }
   ],
   "source": [
    "for x in fruits:\n",
    "    print(x)"
   ]
  },
  {
   "cell_type": "code",
   "execution_count": 5,
   "metadata": {},
   "outputs": [
    {
     "name": "stdout",
     "output_type": "stream",
     "text": [
      "Jmail use apple for sucking.\n",
      "Jmail use cherry for sucking.\n",
      "Jmail use grapes for sucking.\n"
     ]
    }
   ],
   "source": [
    "for fruit in fruits:\n",
    "    print(f\"Jmail use {fruit} for sucking.\")"
   ]
  },
  {
   "cell_type": "code",
   "execution_count": 6,
   "metadata": {},
   "outputs": [
    {
     "name": "stdout",
     "output_type": "stream",
     "text": [
      "APPLE\n",
      "CHERRY\n",
      "GRAPES\n"
     ]
    }
   ],
   "source": [
    "for x in fruits:\n",
    "    print(x.upper())"
   ]
  },
  {
   "cell_type": "code",
   "execution_count": 9,
   "metadata": {},
   "outputs": [
    {
     "name": "stdout",
     "output_type": "stream",
     "text": [
      "apple\n",
      "waqas\n",
      "cherry\n",
      "waqas\n",
      "grapes\n",
      "waqas\n",
      "Jamil\n"
     ]
    }
   ],
   "source": [
    "for x in fruits:\n",
    "    print(x)\n",
    "    print('waqas')\n",
    "\n",
    "print('Jamil')"
   ]
  },
  {
   "cell_type": "code",
   "execution_count": null,
   "metadata": {},
   "outputs": [],
   "source": [
    "#range [start(default = 0), end(specify), step(default = 1)]"
   ]
  },
  {
   "cell_type": "code",
   "execution_count": 16,
   "metadata": {},
   "outputs": [],
   "source": [
    "for i in range(1, 10, 1):\n",
    "    print(f\"{i}- Waqas\")"
   ]
  },
  {
   "cell_type": "code",
   "execution_count": null,
   "metadata": {},
   "outputs": [],
   "source": [
    "#type casting function \n",
    "#int()\n",
    "#float()\n",
    "#str()\n",
    "#bool()\n",
    "\n",
    "#list()\n",
    "#tuple()\n",
    "#dict()"
   ]
  },
  {
   "cell_type": "code",
   "execution_count": 17,
   "metadata": {},
   "outputs": [
    {
     "name": "stdout",
     "output_type": "stream",
     "text": [
      "[0, 2, 4, 6, 8]\n"
     ]
    }
   ],
   "source": [
    "print(list(range(0, 10, 2)))"
   ]
  },
  {
   "cell_type": "code",
   "execution_count": 18,
   "metadata": {},
   "outputs": [],
   "source": [
    "numbers = [1, 2, 3, 4, 5]\n",
    "squares = []\n",
    "for x in numbers:\n",
    "    x = x ** 2\n",
    "    squares.append(x)\n",
    "\n"
   ]
  },
  {
   "cell_type": "code",
   "execution_count": 19,
   "metadata": {},
   "outputs": [
    {
     "name": "stdout",
     "output_type": "stream",
     "text": [
      "[1, 4, 9, 16, 25]\n"
     ]
    }
   ],
   "source": [
    "print(squares)"
   ]
  },
  {
   "cell_type": "code",
   "execution_count": 20,
   "metadata": {},
   "outputs": [
    {
     "data": {
      "text/plain": [
       "[1, 4, 9, 16, 25]"
      ]
     },
     "execution_count": 20,
     "metadata": {},
     "output_type": "execute_result"
    }
   ],
   "source": [
    "[x**2 for x in numbers]"
   ]
  },
  {
   "cell_type": "code",
   "execution_count": null,
   "metadata": {},
   "outputs": [],
   "source": [
    "fruits = ['apple', 'cherry', 'grapes', 'almond',]"
   ]
  },
  {
   "cell_type": "code",
   "execution_count": 24,
   "metadata": {},
   "outputs": [
    {
     "name": "stdout",
     "output_type": "stream",
     "text": [
      "['Islamabad', 'Lahore', 'Jhang', 'Okara', 'skp', 'Multan', 'kasur']\n"
     ]
    }
   ],
   "source": [
    "cities = ['Lahore', 'Jhang', 'Okara', 'skp', 'Multan']\n",
    "cities.append('kasur')\n",
    "cities.insert(0, \"Islamabad\")\n",
    "print(cities)"
   ]
  },
  {
   "cell_type": "code",
   "execution_count": 25,
   "metadata": {},
   "outputs": [
    {
     "name": "stdout",
     "output_type": "stream",
     "text": [
      "Dear Uzair, I would be honored to have you join me for dinner.\n",
      "Dear Bilal, I would be honored to have you join me for dinner.\n",
      "Dear Mohsin, I would be honored to have you join me for dinner.\n"
     ]
    }
   ],
   "source": [
    "guests_2 = [\"Uzair\", \"Bilal\", \"Mohsin\"]\n",
    "\n",
    "print(f\"Dear {guests_2[0]}, I would be honored to have you join me for dinner.\")\n",
    "print(f\"Dear {guests_2[1]}, I would be honored to have you join me for dinner.\")\n",
    "print(f\"Dear {guests_2[2]}, I would be honored to have you join me for dinner.\")\n"
   ]
  },
  {
   "cell_type": "code",
   "execution_count": 26,
   "metadata": {},
   "outputs": [
    {
     "name": "stdout",
     "output_type": "stream",
     "text": [
      "Dear Uzair, I would be honored to have you join me for dinner.\n",
      "Dear Bilal, I would be honored to have you join me for dinner.\n",
      "Dear Mohsin, I would be honored to have you join me for dinner.\n"
     ]
    }
   ],
   "source": [
    "for guest in guests_2:\n",
    "    print(f\"Dear {guest}, I would be honored to have you join me for dinner.\")"
   ]
  },
  {
   "cell_type": "code",
   "execution_count": null,
   "metadata": {},
   "outputs": [],
   "source": [
    "#when use for loop, while loop, do while loop? research on it "
   ]
  }
 ],
 "metadata": {
  "kernelspec": {
   "display_name": "Python 3",
   "language": "python",
   "name": "python3"
  },
  "language_info": {
   "codemirror_mode": {
    "name": "ipython",
    "version": 3
   },
   "file_extension": ".py",
   "mimetype": "text/x-python",
   "name": "python",
   "nbconvert_exporter": "python",
   "pygments_lexer": "ipython3",
   "version": "3.12.4"
  }
 },
 "nbformat": 4,
 "nbformat_minor": 2
}
