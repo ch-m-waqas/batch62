{
 "cells": [
  {
   "cell_type": "code",
   "execution_count": 2,
   "metadata": {},
   "outputs": [
    {
     "name": "stdout",
     "output_type": "stream",
     "text": [
      "waqas\n"
     ]
    }
   ],
   "source": [
    "print('waqas')"
   ]
  },
  {
   "cell_type": "code",
   "execution_count": 3,
   "metadata": {},
   "outputs": [
    {
     "name": "stdout",
     "output_type": "stream",
     "text": [
      "Earned amount:\n",
      "Bubblegum: $202\n",
      "Toffee: $118\n",
      "Ice cream: $2250\n",
      "Milk chocolate: $1680\n",
      "Doughnut: $1075\n",
      "Pancake: $80\n",
      "\n",
      "Income: $5405.0\n"
     ]
    }
   ],
   "source": [
    "print('''Earned amount:\n",
    "Bubblegum: $202\n",
    "Toffee: $118\n",
    "Ice cream: $2250\n",
    "Milk chocolate: $1680\n",
    "Doughnut: $1075\n",
    "Pancake: $80\n",
    "''')\n",
    "Bubblegum = 202\n",
    "Toffee = 118\n",
    "Ice_cream = 2250\n",
    "Milk_chocolate = 1680\n",
    "Doughnut = 1075\n",
    "Pancake = 80\n",
    "Income = Bubblegum + Toffee + Ice_cream + Milk_chocolate + Doughnut + Pancake \n",
    "print(f\"Income: ${float(Income)}\")"
   ]
  },
  {
   "cell_type": "code",
   "execution_count": 11,
   "metadata": {},
   "outputs": [
    {
     "name": "stdout",
     "output_type": "stream",
     "text": [
      "['apple', 'mango', 'lemon']\n",
      "apple\n",
      "mango\n"
     ]
    },
    {
     "data": {
      "text/plain": [
       "['Almond', 'mango', 'lemon']"
      ]
     },
     "execution_count": 11,
     "metadata": {},
     "output_type": "execute_result"
    }
   ],
   "source": [
    "fruits: list = ['apple', 'mango', 'lemon']\n",
    "print(fruits)\n",
    "fruits[0] #indexing\n",
    "fruits[-2]\n",
    "print(fruits[0])\n",
    "print(fruits[-2])\n",
    "fruits[1: 3] #sublist(slicing)\n",
    "fruits[-3:]\n",
    "fruits[-3:-2]\n",
    "fruits[0] = 'Almond'\n",
    "fruits\n"
   ]
  },
  {
   "cell_type": "code",
   "execution_count": 13,
   "metadata": {},
   "outputs": [
    {
     "name": "stdout",
     "output_type": "stream",
     "text": [
      "['apple', 'mango', 'lemon']\n"
     ]
    },
    {
     "data": {
      "text/plain": [
       "['apple']"
      ]
     },
     "execution_count": 13,
     "metadata": {},
     "output_type": "execute_result"
    }
   ],
   "source": [
    "fruits: list = ['apple', 'mango', 'lemon']\n",
    "print(fruits)\n",
    "fruits[0] = 'Almond' #replace any item\n",
    "fruits.clear() #clear list\n",
    "fruits.append('apple') #add any item in list\n",
    "fruits"
   ]
  },
  {
   "cell_type": "code",
   "execution_count": 14,
   "metadata": {},
   "outputs": [
    {
     "name": "stdout",
     "output_type": "stream",
     "text": [
      "['apple']\n"
     ]
    }
   ],
   "source": [
    "fruits1 = fruits #same\n",
    "print(id(fruits))\n",
    "print(id(fruits1)) #same address\n",
    "fruits2 = fruits.copy() #in this case they have different address\n"
   ]
  },
  {
   "cell_type": "code",
   "execution_count": null,
   "metadata": {},
   "outputs": [],
   "source": [
    "vegetables = ['carrot']\n",
    "fruits.extend(vegetables) #all elements of vegetables move in fruits list\n",
    "fruits.remove('carrot') #to remove any item from list and remove first entry , for multiple same items remove we can use loop\n",
    "fruits.pop(1) #also remove item and also return the item \n",
    "fruits.sort(reverse=True) #for descending"
   ]
  }
 ],
 "metadata": {
  "kernelspec": {
   "display_name": "Python 3",
   "language": "python",
   "name": "python3"
  },
  "language_info": {
   "codemirror_mode": {
    "name": "ipython",
    "version": 3
   },
   "file_extension": ".py",
   "mimetype": "text/x-python",
   "name": "python",
   "nbconvert_exporter": "python",
   "pygments_lexer": "ipython3",
   "version": "3.12.4"
  }
 },
 "nbformat": 4,
 "nbformat_minor": 2
}
